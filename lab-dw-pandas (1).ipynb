{
 "cells": [
  {
   "cell_type": "markdown",
   "id": "25d7736c-ba17-4aff-b6bb-66eba20fbf4e",
   "metadata": {},
   "source": [
    "# Lab | Pandas"
   ]
  },
  {
   "cell_type": "markdown",
   "id": "d1973e9e-8be6-4039-b70e-d73ee0d94c99",
   "metadata": {},
   "source": [
    "In this lab, we will be working with the customer data from an insurance company, which can be found in the CSV file located at the following link: https://raw.githubusercontent.com/data-bootcamp-v4/data/main/file1.csv\n",
    "\n",
    "The data includes information such as customer ID, state, gender, education, income, and other variables that can be used to perform various analyses.\n",
    "\n",
    "Throughout the lab, we will be using the pandas library in Python to manipulate and analyze the data. Pandas is a powerful library that provides various data manipulation and analysis tools, including the ability to load and manipulate data from a variety of sources, including CSV files."
   ]
  },
  {
   "cell_type": "markdown",
   "id": "8045146f-f4f7-44d9-8cd9-130d6400c73a",
   "metadata": {
    "jp-MarkdownHeadingCollapsed": true
   },
   "source": [
    "### Data Description\n",
    "\n",
    "- Customer - Customer ID\n",
    "\n",
    "- ST - State where customers live\n",
    "\n",
    "- Gender - Gender of the customer\n",
    "\n",
    "- Education - Background education of customers \n",
    "\n",
    "- Customer Lifetime Value - Customer lifetime value(CLV) is the total revenue the client will derive from their entire relationship with a customer. In other words, is the predicted or calculated value of a customer over their entire duration as a policyholder with the insurance company. It is an estimation of the net profit that the insurance company expects to generate from a customer throughout their relationship with the company. Customer Lifetime Value takes into account factors such as the duration of the customer's policy, premium payments, claim history, renewal likelihood, and potential additional services or products the customer may purchase. It helps insurers assess the long-term profitability and value associated with retaining a particular customer.\n",
    "\n",
    "- Income - Customers income\n",
    "\n",
    "- Monthly Premium Auto - Amount of money the customer pays on a monthly basis as a premium for their auto insurance coverage. It represents the recurring cost that the insured person must pay to maintain their insurance policy and receive coverage for potential damages, accidents, or other covered events related to their vehicle.\n",
    "\n",
    "- Number of Open Complaints - Number of complaints the customer opened\n",
    "\n",
    "- Policy Type - There are three type of policies in car insurance (Corporate Auto, Personal Auto, and Special Auto)\n",
    "\n",
    "- Vehicle Class - Type of vehicle classes that customers have Two-Door Car, Four-Door Car SUV, Luxury SUV, Sports Car, and Luxury Car\n",
    "\n",
    "- Total Claim Amount - the sum of all claims made by the customer. It represents the total monetary value of all approved claims for incidents such as accidents, theft, vandalism, or other covered events.\n"
   ]
  },
  {
   "cell_type": "markdown",
   "id": "3a72419b-20fc-4905-817a-8c83abc59de6",
   "metadata": {},
   "source": [
    "External Resources: https://towardsdatascience.com/filtering-data-frames-in-pandas-b570b1f834b9"
   ]
  },
  {
   "cell_type": "markdown",
   "id": "8f8ece17-e919-4e23-96c0-c7c59778436a",
   "metadata": {},
   "source": [
    "## Challenge 1: Understanding the data\n",
    "\n",
    "In this challenge, you will use pandas to explore a given dataset. Your task is to gain a deep understanding of the data by analyzing its characteristics, dimensions, and statistical properties."
   ]
  },
  {
   "cell_type": "markdown",
   "id": "91437bd5-59a6-49c0-8150-ef0e6e6eb253",
   "metadata": {},
   "source": [
    "- Identify the dimensions of the dataset by determining the number of rows and columns it contains.\n",
    "- Determine the data types of each column and evaluate whether they are appropriate for the nature of the variable. You should also provide suggestions for fixing any incorrect data types.\n",
    "- Identify the number of unique values for each column and determine which columns appear to be categorical. You should also describe the unique values of each categorical column and the range of values for numerical columns, and give your insights.\n",
    "- Compute summary statistics such as mean, median, mode, standard deviation, and quartiles to understand the central tendency and distribution of the data for numerical columns. You should also provide your conclusions based on these summary statistics.\n",
    "- Compute summary statistics for categorical columns and providing your conclusions based on these statistics."
   ]
  },
  {
   "cell_type": "code",
   "execution_count": 9,
   "id": "dd4e8cd8-a6f6-486c-a5c4-1745b0c035f4",
   "metadata": {},
   "outputs": [],
   "source": [
    "# Your code here"
   ]
  },
  {
   "cell_type": "markdown",
   "id": "4a703890-63db-4944-b7ab-95a4f8185120",
   "metadata": {},
   "source": [
    "## Challenge 2: analyzing the data"
   ]
  },
  {
   "cell_type": "markdown",
   "id": "0776a403-c56a-452f-ac33-5fd4fdb06fc7",
   "metadata": {},
   "source": [
    "### Exercise 1"
   ]
  },
  {
   "cell_type": "markdown",
   "id": "eedbc484-da4d-4f9c-9343-e1d44311a87e",
   "metadata": {},
   "source": [
    "The marketing team wants to know the top 5 less common customer locations. Create a pandas Series object that contains the customer locations and their frequencies, and then retrieve the top 5 less common locations in ascending order."
   ]
  },
  {
   "cell_type": "code",
   "execution_count": 14,
   "id": "2dca5073-4520-4f42-9390-4b92733284ed",
   "metadata": {},
   "outputs": [],
   "source": [
    "# Your code here"
   ]
  },
  {
   "cell_type": "markdown",
   "id": "0ce80f43-4afa-43c7-a78a-c917444da4e0",
   "metadata": {},
   "source": [
    "### Exercise 2\n",
    "\n",
    "The sales team wants to know the total number of policies sold for each type of policy. Create a pandas Series object that contains the policy types and their total number of policies sold, and then retrieve the policy type with the highest number of policies sold."
   ]
  },
  {
   "cell_type": "markdown",
   "id": "a9f13997-1555-4f98-aca6-970fda1d2c3f",
   "metadata": {},
   "source": [
    "*Hint:*\n",
    "- *Using value_counts() method simplifies this analysis.*\n",
    "- *Futhermore, there is a method that returns the index of the maximum value in a column or row.*\n"
   ]
  },
  {
   "cell_type": "code",
   "execution_count": 18,
   "id": "bcfad6c1-9af2-4b0b-9aa9-0dc5c17473c0",
   "metadata": {},
   "outputs": [],
   "source": [
    "# Your code here"
   ]
  },
  {
   "cell_type": "markdown",
   "id": "0b863fd3-bf91-4d5d-86eb-be29ed9f5b70",
   "metadata": {},
   "source": [
    "### Exercise 3\n",
    "\n",
    "The sales team wants to know if customers with Personal Auto have a lower income than those with Corporate Auto. How does the average income compare between the two policy types?"
   ]
  },
  {
   "cell_type": "markdown",
   "id": "b1386d75-2810-4aa1-93e0-9485aa12d552",
   "metadata": {},
   "source": [
    "- Use *loc* to create two dataframes: one containing only Personal Auto policies and one containing only Corporate Auto policies.\n",
    "- Calculate the average income for each policy.\n",
    "- Print the results."
   ]
  },
  {
   "cell_type": "code",
   "execution_count": 22,
   "id": "0c0563cf-6f8b-463d-a321-651a972f82e5",
   "metadata": {},
   "outputs": [],
   "source": [
    "# Your code here"
   ]
  },
  {
   "cell_type": "markdown",
   "id": "80b16c27-f4a5-4727-a229-1f88671cf4e2",
   "metadata": {},
   "source": [
    "### Bonus: Exercise 4\n"
   ]
  },
  {
   "cell_type": "markdown",
   "id": "ac584986-299b-475f-ac2e-928c16c3f512",
   "metadata": {},
   "source": [
    "Your goal is to identify customers with a high policy claim amount.\n",
    "\n",
    "Instructions:\n",
    "\n",
    "- Review again the statistics for total claim amount to gain an understanding of the data.\n",
    "- To identify potential areas for improving customer retention and profitability, we want to focus on customers with a high policy claim amount. Consider customers with a high policy claim amount to be those in the top 25% of the total claim amount. Create a pandas DataFrame object that contains information about customers with a policy claim amount greater than the 75th percentile.\n",
    "- Use DataFrame methods to calculate summary statistics about the high policy claim amount data. "
   ]
  },
  {
   "cell_type": "markdown",
   "id": "4e3af5f1-6023-4b05-9c01-d05392daa650",
   "metadata": {},
   "source": [
    "*Note: When analyzing data, we often want to focus on certain groups of values to gain insights. Percentiles are a useful tool to help us define these groups. A percentile is a measure that tells us what percentage of values in a dataset are below a certain value. For example, the 75th percentile represents the value below which 75% of the data falls. Similarly, the 25th percentile represents the value below which 25% of the data falls. When we talk about the top 25%, we are referring to the values that fall above the 75th percentile, which represent the top quarter of the data. On the other hand, when we talk about the bottom 25%, we are referring to the values that fall below the 25th percentile, which represent the bottom quarter of the data. By focusing on these groups, we can identify patterns and trends that may be useful for making decisions and taking action.*\n",
    "\n",
    "*Hint: look for a method that gives you the percentile or quantile 0.75 and 0.25 for a Pandas Series.*"
   ]
  },
  {
   "cell_type": "markdown",
   "id": "2d234634-50bd-41e0-88f7-d5ba684455d1",
   "metadata": {},
   "source": [
    "*Hint 2: check `Boolean selection according to the values of a single column` in https://towardsdatascience.com/filtering-data-frames-in-pandas-b570b1f834b9*"
   ]
  },
  {
   "cell_type": "code",
   "execution_count": 28,
   "id": "b731bca6-a760-4860-a27b-a33efa712ce0",
   "metadata": {},
   "outputs": [],
   "source": [
    "# Your code here"
   ]
  },
  {
   "cell_type": "code",
   "execution_count": 30,
   "id": "60a817d1-dec9-475d-9204-9bea268ad31f",
   "metadata": {},
   "outputs": [],
   "source": [
    "import pandas as pd \n",
    "insurance_df = pd.read_csv('https://raw.githubusercontent.com/data-bootcamp-v4/data/main/file1.csv')"
   ]
  },
  {
   "cell_type": "code",
   "execution_count": 31,
   "id": "927e6729-789f-4d93-a401-93afa25ae623",
   "metadata": {},
   "outputs": [
    {
     "data": {
      "text/html": [
       "<div>\n",
       "<style scoped>\n",
       "    .dataframe tbody tr th:only-of-type {\n",
       "        vertical-align: middle;\n",
       "    }\n",
       "\n",
       "    .dataframe tbody tr th {\n",
       "        vertical-align: top;\n",
       "    }\n",
       "\n",
       "    .dataframe thead th {\n",
       "        text-align: right;\n",
       "    }\n",
       "</style>\n",
       "<table border=\"1\" class=\"dataframe\">\n",
       "  <thead>\n",
       "    <tr style=\"text-align: right;\">\n",
       "      <th></th>\n",
       "      <th>Customer</th>\n",
       "      <th>ST</th>\n",
       "      <th>GENDER</th>\n",
       "      <th>Education</th>\n",
       "      <th>Customer Lifetime Value</th>\n",
       "      <th>Income</th>\n",
       "      <th>Monthly Premium Auto</th>\n",
       "      <th>Number of Open Complaints</th>\n",
       "      <th>Policy Type</th>\n",
       "      <th>Vehicle Class</th>\n",
       "      <th>Total Claim Amount</th>\n",
       "    </tr>\n",
       "  </thead>\n",
       "  <tbody>\n",
       "    <tr>\n",
       "      <th>0</th>\n",
       "      <td>RB50392</td>\n",
       "      <td>Washington</td>\n",
       "      <td>NaN</td>\n",
       "      <td>Master</td>\n",
       "      <td>NaN</td>\n",
       "      <td>0.0</td>\n",
       "      <td>1000.0</td>\n",
       "      <td>1/0/00</td>\n",
       "      <td>Personal Auto</td>\n",
       "      <td>Four-Door Car</td>\n",
       "      <td>2.704934</td>\n",
       "    </tr>\n",
       "    <tr>\n",
       "      <th>1</th>\n",
       "      <td>QZ44356</td>\n",
       "      <td>Arizona</td>\n",
       "      <td>F</td>\n",
       "      <td>Bachelor</td>\n",
       "      <td>697953.59%</td>\n",
       "      <td>0.0</td>\n",
       "      <td>94.0</td>\n",
       "      <td>1/0/00</td>\n",
       "      <td>Personal Auto</td>\n",
       "      <td>Four-Door Car</td>\n",
       "      <td>1131.464935</td>\n",
       "    </tr>\n",
       "    <tr>\n",
       "      <th>2</th>\n",
       "      <td>AI49188</td>\n",
       "      <td>Nevada</td>\n",
       "      <td>F</td>\n",
       "      <td>Bachelor</td>\n",
       "      <td>1288743.17%</td>\n",
       "      <td>48767.0</td>\n",
       "      <td>108.0</td>\n",
       "      <td>1/0/00</td>\n",
       "      <td>Personal Auto</td>\n",
       "      <td>Two-Door Car</td>\n",
       "      <td>566.472247</td>\n",
       "    </tr>\n",
       "    <tr>\n",
       "      <th>3</th>\n",
       "      <td>WW63253</td>\n",
       "      <td>California</td>\n",
       "      <td>M</td>\n",
       "      <td>Bachelor</td>\n",
       "      <td>764586.18%</td>\n",
       "      <td>0.0</td>\n",
       "      <td>106.0</td>\n",
       "      <td>1/0/00</td>\n",
       "      <td>Corporate Auto</td>\n",
       "      <td>SUV</td>\n",
       "      <td>529.881344</td>\n",
       "    </tr>\n",
       "    <tr>\n",
       "      <th>4</th>\n",
       "      <td>GA49547</td>\n",
       "      <td>Washington</td>\n",
       "      <td>M</td>\n",
       "      <td>High School or Below</td>\n",
       "      <td>536307.65%</td>\n",
       "      <td>36357.0</td>\n",
       "      <td>68.0</td>\n",
       "      <td>1/0/00</td>\n",
       "      <td>Personal Auto</td>\n",
       "      <td>Four-Door Car</td>\n",
       "      <td>17.269323</td>\n",
       "    </tr>\n",
       "  </tbody>\n",
       "</table>\n",
       "</div>"
      ],
      "text/plain": [
       "  Customer          ST GENDER             Education Customer Lifetime Value  \\\n",
       "0  RB50392  Washington    NaN                Master                     NaN   \n",
       "1  QZ44356     Arizona      F              Bachelor              697953.59%   \n",
       "2  AI49188      Nevada      F              Bachelor             1288743.17%   \n",
       "3  WW63253  California      M              Bachelor              764586.18%   \n",
       "4  GA49547  Washington      M  High School or Below              536307.65%   \n",
       "\n",
       "    Income  Monthly Premium Auto Number of Open Complaints     Policy Type  \\\n",
       "0      0.0                1000.0                    1/0/00   Personal Auto   \n",
       "1      0.0                  94.0                    1/0/00   Personal Auto   \n",
       "2  48767.0                 108.0                    1/0/00   Personal Auto   \n",
       "3      0.0                 106.0                    1/0/00  Corporate Auto   \n",
       "4  36357.0                  68.0                    1/0/00   Personal Auto   \n",
       "\n",
       "   Vehicle Class  Total Claim Amount  \n",
       "0  Four-Door Car            2.704934  \n",
       "1  Four-Door Car         1131.464935  \n",
       "2   Two-Door Car          566.472247  \n",
       "3            SUV          529.881344  \n",
       "4  Four-Door Car           17.269323  "
      ]
     },
     "execution_count": 31,
     "metadata": {},
     "output_type": "execute_result"
    }
   ],
   "source": [
    "insurance_df.head()"
   ]
  },
  {
   "cell_type": "code",
   "execution_count": 32,
   "id": "02c00f86-6bf1-4299-bcdd-9607d20a170d",
   "metadata": {},
   "outputs": [
    {
     "data": {
      "text/plain": [
       "(4008, 11)"
      ]
     },
     "execution_count": 32,
     "metadata": {},
     "output_type": "execute_result"
    }
   ],
   "source": [
    "insurance_df.shape"
   ]
  },
  {
   "cell_type": "code",
   "execution_count": 33,
   "id": "985abeae-a4e8-4ef6-8515-28b413dc7433",
   "metadata": {},
   "outputs": [
    {
     "data": {
      "text/plain": [
       "Index(['Customer', 'ST', 'GENDER', 'Education', 'Customer Lifetime Value',\n",
       "       'Income', 'Monthly Premium Auto', 'Number of Open Complaints',\n",
       "       'Policy Type', 'Vehicle Class', 'Total Claim Amount'],\n",
       "      dtype='object')"
      ]
     },
     "execution_count": 33,
     "metadata": {},
     "output_type": "execute_result"
    }
   ],
   "source": [
    "insurance_df.columns"
   ]
  },
  {
   "cell_type": "code",
   "execution_count": 34,
   "id": "94d30dd6-a042-4f3a-90b8-6b9b518e13b1",
   "metadata": {},
   "outputs": [
    {
     "name": "stdout",
     "output_type": "stream",
     "text": [
      "<class 'pandas.core.frame.DataFrame'>\n",
      "RangeIndex: 4008 entries, 0 to 4007\n",
      "Data columns (total 11 columns):\n",
      " #   Column                     Non-Null Count  Dtype  \n",
      "---  ------                     --------------  -----  \n",
      " 0   Customer                   1071 non-null   object \n",
      " 1   ST                         1071 non-null   object \n",
      " 2   GENDER                     954 non-null    object \n",
      " 3   Education                  1071 non-null   object \n",
      " 4   Customer Lifetime Value    1068 non-null   object \n",
      " 5   Income                     1071 non-null   float64\n",
      " 6   Monthly Premium Auto       1071 non-null   float64\n",
      " 7   Number of Open Complaints  1071 non-null   object \n",
      " 8   Policy Type                1071 non-null   object \n",
      " 9   Vehicle Class              1071 non-null   object \n",
      " 10  Total Claim Amount         1071 non-null   float64\n",
      "dtypes: float64(3), object(8)\n",
      "memory usage: 344.6+ KB\n"
     ]
    }
   ],
   "source": [
    "insurance_df.info()"
   ]
  },
  {
   "cell_type": "code",
   "execution_count": 35,
   "id": "8c5c0a73-5f4e-4578-8a3a-60061014357b",
   "metadata": {},
   "outputs": [],
   "source": [
    "# Monthly Premium Auto está representado en Floats, pero con numeros redondos. Quizás representarlo en ennteros haria que se viera más limpia la data"
   ]
  },
  {
   "cell_type": "code",
   "execution_count": 37,
   "id": "f0c33824-d779-4742-85de-cc424237225e",
   "metadata": {},
   "outputs": [
    {
     "data": {
      "text/plain": [
       "1071"
      ]
     },
     "execution_count": 37,
     "metadata": {},
     "output_type": "execute_result"
    }
   ],
   "source": [
    "insurance_df.Customer.nunique()"
   ]
  },
  {
   "cell_type": "code",
   "execution_count": 44,
   "id": "87f918e5-3a3a-4c34-a125-57fbdfa19057",
   "metadata": {},
   "outputs": [
    {
     "data": {
      "text/plain": [
       "8"
      ]
     },
     "execution_count": 44,
     "metadata": {},
     "output_type": "execute_result"
    }
   ],
   "source": [
    "insurance_df.ST.nunique()"
   ]
  },
  {
   "cell_type": "code",
   "execution_count": 45,
   "id": "a3c7776c-ff4a-428e-9aaa-355445956498",
   "metadata": {},
   "outputs": [
    {
     "data": {
      "text/plain": [
       "array([nan, 'F', 'M', 'Femal', 'Male', 'female'], dtype=object)"
      ]
     },
     "execution_count": 45,
     "metadata": {},
     "output_type": "execute_result"
    }
   ],
   "source": [
    "insurance_df.GENDER.unique()"
   ]
  },
  {
   "cell_type": "code",
   "execution_count": 48,
   "id": "33ec99f2-6f01-4dc7-a619-9af0a3b4c953",
   "metadata": {},
   "outputs": [
    {
     "data": {
      "text/plain": [
       "array(['Master', 'Bachelor', 'High School or Below', 'College',\n",
       "       'Bachelors', 'Doctor', nan], dtype=object)"
      ]
     },
     "execution_count": 48,
     "metadata": {},
     "output_type": "execute_result"
    }
   ],
   "source": [
    "insurance_df.Education.unique()"
   ]
  },
  {
   "cell_type": "code",
   "execution_count": 50,
   "id": "0aa4d6a6-4baa-4a7b-ad3e-105bab1a61d9",
   "metadata": {},
   "outputs": [
    {
     "data": {
      "text/plain": [
       "array([nan, '697953.59%', '1288743.17%', ..., '2031499.76%', '323912.47%',\n",
       "       '899704.02%'], dtype=object)"
      ]
     },
     "execution_count": 50,
     "metadata": {},
     "output_type": "execute_result"
    }
   ],
   "source": [
    "insurance_df['Customer Lifetime Value'].unique()"
   ]
  },
  {
   "cell_type": "code",
   "execution_count": 52,
   "id": "a8ae0cd0-69c4-4b75-be37-b92ac0dda8d0",
   "metadata": {},
   "outputs": [
    {
     "data": {
      "text/plain": [
       "774"
      ]
     },
     "execution_count": 52,
     "metadata": {},
     "output_type": "execute_result"
    }
   ],
   "source": [
    "insurance_df.Income.nunique()\n"
   ]
  },
  {
   "cell_type": "code",
   "execution_count": 54,
   "id": "7d8df795-fc23-471d-9ebc-d42f3e593374",
   "metadata": {},
   "outputs": [
    {
     "data": {
      "text/plain": [
       "132"
      ]
     },
     "execution_count": 54,
     "metadata": {},
     "output_type": "execute_result"
    }
   ],
   "source": [
    "insurance_df['Monthly Premium Auto'].nunique()"
   ]
  },
  {
   "cell_type": "code",
   "execution_count": 56,
   "id": "416c0459-469d-4044-a3f6-9b56dc436a8e",
   "metadata": {},
   "outputs": [
    {
     "data": {
      "text/plain": [
       "6"
      ]
     },
     "execution_count": 56,
     "metadata": {},
     "output_type": "execute_result"
    }
   ],
   "source": [
    "insurance_df['Number of Open Complaints'].nunique()"
   ]
  },
  {
   "cell_type": "code",
   "execution_count": 58,
   "id": "3cdbfb88-b3bf-46b2-aa51-1c3448fdf287",
   "metadata": {},
   "outputs": [
    {
     "data": {
      "text/plain": [
       "array(['Personal Auto', 'Corporate Auto', 'Special Auto', nan],\n",
       "      dtype=object)"
      ]
     },
     "execution_count": 58,
     "metadata": {},
     "output_type": "execute_result"
    }
   ],
   "source": [
    "insurance_df['Policy Type'].unique()"
   ]
  },
  {
   "cell_type": "code",
   "execution_count": 60,
   "id": "ebb1282c-d8ac-41e4-816c-79952443d357",
   "metadata": {},
   "outputs": [
    {
     "data": {
      "text/plain": [
       "array(['Four-Door Car', 'Two-Door Car', 'SUV', 'Luxury SUV', 'Sports Car',\n",
       "       'Luxury Car', nan], dtype=object)"
      ]
     },
     "execution_count": 60,
     "metadata": {},
     "output_type": "execute_result"
    }
   ],
   "source": [
    "insurance_df['Vehicle Class'].unique()"
   ]
  },
  {
   "cell_type": "code",
   "execution_count": 62,
   "id": "84ac9c9b-e582-4790-b164-80da2f011154",
   "metadata": {},
   "outputs": [
    {
     "data": {
      "text/plain": [
       "array([2.70493400e+00, 1.13146493e+03, 5.66472247e+02, 5.29881344e+02,\n",
       "       1.72693230e+01, 1.59383042e+02, 3.21600000e+02, 3.63029680e+02,\n",
       "       5.11200000e+02, 4.25527834e+02, 4.82400000e+02, 5.28000000e+02,\n",
       "       4.72029737e+02, 3.07139132e+02, 4.29202710e+01, 4.54245098e+02,\n",
       "       6.47442031e+02, 3.08981664e+02, 4.84800000e+02, 3.55200000e+02,\n",
       "       2.03828760e+01, 5.54376763e+02, 4.39200000e+02, 3.89185006e+02,\n",
       "       7.99200000e+02, 2.09851050e+01, 5.32800000e+02, 3.84000000e+02,\n",
       "       3.22294043e+02, 6.15927769e+02, 3.08150890e+02, 2.38201580e+01,\n",
       "       1.54376810e+01, 2.04475147e+02, 5.61600000e+02, 4.36800000e+02,\n",
       "       6.48000000e+02, 1.57397849e+02, 4.84318536e+02, 1.89189350e+01,\n",
       "       8.82871945e+02, 4.94400000e+02, 3.17073170e+01, 5.17753000e-01,\n",
       "       5.79165954e+02, 4.47793440e+02, 5.29624084e+02, 3.13023175e+02,\n",
       "       5.93830288e+02, 5.08800000e+02, 1.73956072e+02, 3.31928030e+01,\n",
       "       8.31625979e+02, 3.02565190e+02, 7.04768111e+02, 5.18400000e+02,\n",
       "       3.12000000e+02, 5.04000000e+02, 8.63327324e+02, 1.04331355e+02,\n",
       "       6.76391482e+02, 3.50400000e+02, 5.37600000e+02, 4.65258644e+02,\n",
       "       4.56000000e+02, 5.00254235e+02, 2.81451042e+02, 5.43450500e+00,\n",
       "       3.07200000e+02, 9.82399613e+02, 4.67803638e+02, 2.90341600e+01,\n",
       "       4.11223030e+01, 4.27631210e+02, 2.58076850e+01, 7.87993313e+02,\n",
       "       4.89600000e+02, 3.02400000e+02, 4.75623251e+02, 4.52150590e+01,\n",
       "       4.60800000e+02, 2.82151207e+02, 3.64800000e+02, 6.79827592e+02,\n",
       "       4.60414520e+01, 1.18790370e+01, 3.50529033e+02, 8.63394700e+02,\n",
       "       4.92127532e+02, 1.32588288e+02, 2.97600000e+02, 2.69905129e+02,\n",
       "       3.80036697e+02, 5.13600000e+02, 4.25266308e+02, 4.90110990e+01,\n",
       "       9.36000000e+02, 1.42062768e+02, 4.51525210e+01, 3.05673570e+01,\n",
       "       2.71606799e+02, 4.08000000e+02, 4.61581170e+01, 7.84800000e+02,\n",
       "       3.16800000e+02, 4.80468690e+01, 6.38400000e+02, 4.65633954e+02,\n",
       "       3.68400146e+02, 2.36902001e+02, 4.94511170e+01, 6.41096630e+01,\n",
       "       3.26400000e+02, 9.21600000e+02, 1.01896450e+02, 5.42400000e+02,\n",
       "       1.43747794e+02, 4.24077159e+02, 5.04221810e+01, 5.23200000e+02,\n",
       "       1.13801497e+02, 1.92875720e+02, 8.28662719e+02, 9.75107098e+02,\n",
       "       5.37987080e+01, 5.05283550e+01, 2.89912200e+02, 3.92604371e+02,\n",
       "       7.21242206e+02, 4.56523850e+02, 1.08799543e+03, 5.19619150e+01,\n",
       "       2.51992083e+02, 3.45600000e+02, 9.92576080e+01, 5.67315780e+01,\n",
       "       5.75623240e+01, 6.04800000e+02, 8.31272900e+00, 3.16599228e+02,\n",
       "       5.63007240e+01, 3.93600000e+02, 7.01708239e+02, 1.28705563e+02,\n",
       "       6.79368378e+02, 5.99871260e+01, 5.66400000e+02, 6.16542620e+01,\n",
       "       5.54400000e+02, 4.65414770e+02, 4.96800000e+02, 2.92800000e+02,\n",
       "       2.56813837e+02, 5.42319401e+02, 3.03148399e+02, 2.54380630e+01,\n",
       "       8.40244130e+01, 6.16937710e+01, 2.32926145e+02, 6.81797210e+01,\n",
       "       7.10433775e+02, 5.52000000e+02, 1.12265890e+03, 4.08374746e+02,\n",
       "       7.92000000e+02, 7.54358929e+02, 7.02990032e+02, 2.06837111e+02,\n",
       "       2.75395894e+02, 4.59738128e+02, 3.36000000e+02, 4.30994107e+02,\n",
       "       1.83600000e+03, 6.76324760e+01, 8.44481918e+02, 7.22486994e+02,\n",
       "       5.90400000e+02, 4.81027516e+02, 1.12442773e+03, 6.69682001e+02,\n",
       "       1.28409317e+03, 2.40259479e+02, 9.12000000e+02, 5.56800000e+02,\n",
       "       1.15086827e+02, 4.70400000e+02, 3.83167471e+02, 3.07963291e+02,\n",
       "       5.20364752e+02, 4.66436375e+02, 4.51670309e+02, 3.31200000e+02,\n",
       "       4.28734656e+02, 3.98400000e+02, 3.69600000e+02, 8.31752839e+02,\n",
       "       1.56124914e+02, 3.73428187e+02, 3.95934815e+02, 2.31201886e+02,\n",
       "       2.89904105e+02, 7.29600000e+02, 1.05765111e+02, 6.39464548e+02,\n",
       "       3.83442328e+02, 9.90859430e+01, 5.66935022e+02, 4.12800000e+02,\n",
       "       3.88800000e+02, 2.34541344e+03, 7.73470977e+02, 4.24883448e+02,\n",
       "       3.64240307e+02, 3.54729129e+02, 2.83995953e+02, 4.03200000e+02,\n",
       "       2.05431760e+01, 3.85115437e+02, 1.40165035e+02, 1.02879769e+02,\n",
       "       5.68682890e+01, 4.63158502e+02, 2.05444066e+02, 7.41600000e+02,\n",
       "       5.63719670e+01, 8.13600000e+02, 7.95864079e+02, 6.14400000e+02,\n",
       "       7.24386810e+01, 6.78815460e+01, 4.02636829e+02, 6.41388616e+02,\n",
       "       3.42481173e+02, 3.40800000e+02, 4.12101933e+02, 7.37005730e+01,\n",
       "       3.74400000e+02, 7.22024742e+02, 2.59361117e+02, 3.96295614e+02,\n",
       "       3.58281562e+02, 6.53388564e+02, 1.21032372e+02, 9.28133960e+01,\n",
       "       1.59636956e+02, 4.76156957e+02, 7.27200000e+02, 4.20783450e+01,\n",
       "       2.00116060e+02, 6.76944023e+02, 7.66092950e+01, 8.30623064e+02,\n",
       "       5.80473259e+02, 6.00366830e+01, 4.75310100e+01, 3.03872752e+02,\n",
       "       1.00620067e+02, 4.81339891e+02, 1.10160000e+03, 8.63200220e+01,\n",
       "       6.67200000e+02, 5.66033300e+01, 2.62865172e+02, 3.09577946e+02,\n",
       "       3.65364581e+02, 7.05600000e+02, 9.51528000e+00, 2.44564334e+02,\n",
       "       6.39105556e+02, 4.53600000e+02, 5.54522969e+02, 4.02449823e+02,\n",
       "       3.27020539e+02, 5.39530000e+00, 1.31401291e+02, 9.93829430e+01,\n",
       "       8.56800000e+02, 7.39200000e+02, 8.42183630e+01, 6.45468770e+01,\n",
       "       4.41600000e+02, 3.79106230e+01, 2.02860399e+02, 8.58098170e+01,\n",
       "       9.11466610e+01, 2.86234931e+02, 1.15920000e+03, 4.66570791e+02,\n",
       "       1.25240623e+03, 4.21484456e+02, 4.30505942e+02, 3.98502948e+02,\n",
       "       7.64676300e+00, 5.55105260e+01, 3.51270869e+02, 8.06400000e+02,\n",
       "       6.47454583e+02, 1.28438230e+02, 3.02033971e+02, 4.80000000e+02,\n",
       "       1.00316063e+03, 3.79200000e+02, 2.44362072e+02, 2.01455005e+02,\n",
       "       9.15509800e+01, 9.18346680e+01, 7.07430832e+02, 9.29152510e+01,\n",
       "       3.76126419e+02, 1.52184244e+02, 1.76819414e+02, 1.04454624e+02,\n",
       "       9.41718054e+02, 4.68000000e+02, 9.40303080e+01, 6.78598810e+01,\n",
       "       5.39843003e+02, 9.51931570e+01, 9.53385050e+01, 6.26400000e+02,\n",
       "       4.94395024e+02, 1.15545086e+02, 1.99389810e+01, 7.99926741e+02,\n",
       "       8.78400000e+02, 4.44470676e+02, 2.68819985e+02, 1.01288069e+02,\n",
       "       1.31760000e+03, 6.91412378e+02, 8.04811859e+02, 1.09086434e+03,\n",
       "       5.05870350e+01, 1.51528482e+02, 3.47075948e+02, 2.71697529e+02,\n",
       "       8.49600000e+02, 1.10484661e+02, 1.13534474e+02, 5.95200000e+02,\n",
       "       1.13609508e+02, 1.33706349e+03, 1.14273025e+02, 1.25194389e+02,\n",
       "       2.35220971e+02, 3.95341110e+02, 1.14798771e+02, 7.72798511e+02,\n",
       "       6.33600000e+02, 1.68517149e+02, 8.45654042e+02, 1.15728852e+02,\n",
       "       6.68293970e+02, 7.00901632e+02, 5.25600000e+02, 2.52990000e+01,\n",
       "       3.75330097e+02, 4.18233667e+02, 3.98240791e+02, 9.38513425e+02,\n",
       "       3.38619869e+02, 3.39344531e+02, 3.02818833e+02, 6.19165344e+02,\n",
       "       2.59561195e+02, 1.79161843e+02, 6.62400000e+02, 7.55018520e+01,\n",
       "       3.06983596e+02, 8.40268480e+01, 1.39489926e+02, 6.07445900e+02,\n",
       "       6.31124372e+02, 6.28023494e+02, 4.26655599e+02, 9.14179230e+01,\n",
       "       3.17844812e+02, 1.18446235e+02, 8.64615820e+01, 1.18454974e+02,\n",
       "       3.62774545e+02, 2.21856184e+02, 9.80169081e+02, 6.14675906e+02,\n",
       "       1.45252168e+02, 3.74240783e+02, 6.19200000e+02, 8.06692570e+01,\n",
       "       1.32480000e+03, 4.68566133e+02, 8.42437850e+02, 4.75200000e+02,\n",
       "       1.17193117e+03, 2.68471802e+02, 1.38722385e+02, 4.67248020e+02,\n",
       "       4.67503236e+02, 1.21440000e+03, 1.92085299e+02, 6.19973889e+02,\n",
       "       1.00278255e+03, 2.51774574e+02, 8.66208321e+02, 1.21092095e+03,\n",
       "       5.99648466e+02, 2.02772444e+03, 7.28520470e+01, 4.49819671e+02,\n",
       "       2.59060862e+02, 2.99356083e+02, 6.99167900e+02, 1.17959654e+02,\n",
       "       5.45240341e+02, 3.28231432e+02, 6.65686420e+01, 1.38240000e+03,\n",
       "       1.21306839e+02, 6.09600000e+02, 1.25933005e+02, 6.55413330e+02,\n",
       "       6.73342650e+02, 2.38104910e+01, 4.51200000e+02, 2.31922173e+02,\n",
       "       7.72800000e+02, 6.64980242e+02, 1.28645946e+02, 4.64920390e+01,\n",
       "       4.32000000e+02, 7.80851490e+01, 5.64466556e+02, 2.89040734e+02,\n",
       "       1.55938593e+02, 3.26549425e+02, 6.53656680e+02, 1.03935601e+02,\n",
       "       8.09532341e+02, 5.80725310e+02, 1.33735395e+02, 2.38005074e+02,\n",
       "       1.57767442e+03, 1.35892444e+02, 1.35261250e+02, 5.71200000e+02,\n",
       "       6.37063458e+02, 7.59360960e+01, 1.36291083e+02, 6.75309040e+01,\n",
       "       3.12921256e+02, 1.66937747e+02, 1.35382194e+02, 1.77429540e+01,\n",
       "       1.83836700e+00, 1.97776009e+02, 6.12102262e+02, 1.19303615e+03,\n",
       "       6.00000000e+02, 1.36829537e+02, 9.26400000e+02, 3.92636400e+02,\n",
       "       2.15226476e+02, 1.60598662e+02, 3.71803029e+02, 4.43670399e+02,\n",
       "       6.12300581e+02, 2.90391526e+02, 3.16795337e+02, 4.05527937e+02,\n",
       "       2.08598246e+02, 1.38130879e+02, 3.01437365e+02, 4.56473115e+02,\n",
       "       1.52338562e+02, 4.91755368e+02, 4.85174390e+01, 4.30375049e+02,\n",
       "       2.46489123e+02, 1.28969729e+02, 1.85355353e+02, 1.30080000e+03,\n",
       "       9.07130500e+00, 1.33475315e+02, 1.41199465e+02, 6.23223617e+02,\n",
       "       4.27200000e+02, 1.41725051e+02, 2.11336937e+02, 1.47080303e+02,\n",
       "       8.62762957e+02, 1.13367765e+02, 9.43200000e+02, 1.17672722e+02,\n",
       "       2.25145949e+02, 1.82432565e+02, 1.48173152e+02, 1.55570802e+02,\n",
       "       2.12391975e+02, 1.74041566e+02, 4.86278557e+02, 1.92470900e+00,\n",
       "       2.62122050e+02, 5.41695658e+02, 3.27682669e+02, 1.26557030e+03,\n",
       "       6.30431970e+01, 1.56313630e+01, 3.75866091e+02, 4.52616872e+02,\n",
       "       1.13450122e+02, 1.60345100e+01, 6.15272280e+02, 6.15256301e+02,\n",
       "       5.12662450e+02, 7.45239350e+01, 4.26072946e+02, 1.69287785e+02,\n",
       "       4.19464143e+02, 1.58077504e+02, 6.69600000e+02, 3.95729716e+02,\n",
       "       1.59756733e+02, 5.85575520e+01, 8.58297100e+00, 2.85418473e+02,\n",
       "       4.10508316e+02, 2.44231350e+02, 2.18598065e+02, 6.43826716e+02,\n",
       "       4.97047297e+02, 1.02240000e+03, 6.57600000e+02, 2.30245772e+02,\n",
       "       5.62275100e+00, 1.60075260e+02, 3.46513050e+01, 6.78100487e+02,\n",
       "       1.74588413e+02, 1.59391681e+02, 6.98400000e+02, 2.32711071e+02,\n",
       "       1.63046956e+02, 7.98656050e+01, 3.82085897e+02, 4.83483190e+01,\n",
       "       1.33425609e+02, 5.61414794e+02, 4.45287788e+02, 1.65570243e+02,\n",
       "       4.07996840e+02, 8.44229478e+02, 3.40306584e+02, 1.06647493e+02,\n",
       "       6.26116259e+02, 7.84657810e+02, 5.47200000e+02, 8.62777200e+01,\n",
       "       6.35165720e+01, 1.20015609e+02, 1.25413790e+03, 4.17600000e+02,\n",
       "       7.98002689e+02, 8.20416840e+01, 2.28190880e+01, 4.22400000e+02,\n",
       "       6.39971388e+02, 5.11497882e+02, 2.39540223e+02, 5.18180364e+02,\n",
       "       7.15252366e+02, 4.02070719e+02, 9.48140320e+01, 9.72000000e+02,\n",
       "       7.38830440e+01, 5.74024018e+02, 6.32715382e+02, 4.23862600e+00,\n",
       "       4.22480870e+01, 2.71451510e+01, 2.70002766e+02, 4.94946438e+02,\n",
       "       1.42567008e+02, 2.51334247e+02, 3.69818708e+02, 1.61419528e+02,\n",
       "       2.55999709e+02, 6.17695640e+01, 1.31040000e+03, 2.50001424e+02,\n",
       "       1.41799422e+02, 4.97970160e+01, 3.72175592e+02, 5.42143850e+02,\n",
       "       1.36080000e+03, 7.68000000e+02, 7.26329340e+01, 7.20601429e+02,\n",
       "       5.76000000e+02, 4.81025786e+02, 4.66176731e+02, 1.59266473e+02,\n",
       "       4.12831670e+01, 5.03808329e+02, 8.59599411e+02, 3.05653785e+02,\n",
       "       2.78902846e+02, 1.41600000e+03, 1.39963594e+02, 7.34400000e+02,\n",
       "       3.72998650e+01, 9.58165160e+01, 1.00800000e+03, 4.46400000e+02,\n",
       "       7.22053620e+01, 4.01592109e+02, 2.53183568e+02, 6.43200000e+02,\n",
       "       7.99673766e+02, 2.79878670e+01, 1.66772960e+02, 2.70563995e+02,\n",
       "       1.78006524e+02, 4.04265696e+02, 5.13818403e+02, 1.31828507e+02,\n",
       "       6.28800000e+02, 1.78986788e+02, 3.92235698e+02, 8.73600000e+02,\n",
       "       3.82107000e-01, 1.87363583e+02, 3.50853987e+02, 2.17973168e+02,\n",
       "       2.59340640e+01, 1.88938397e+02, 1.53205591e+02, 2.89323968e+03,\n",
       "       6.29532731e+02, 3.61284757e+02, 1.18598830e+03, 4.25800112e+02,\n",
       "       1.90434460e+02, 1.93505325e+02, 2.40877740e+01, 2.19288706e+02,\n",
       "       8.81360959e+02, 2.69516270e+01, 4.66122541e+02, 6.07095655e+02,\n",
       "       2.90381707e+02, 5.58099357e+02, 8.28000000e+02, 5.40514115e+02,\n",
       "       1.00049832e+02, 5.98619630e+01, 1.93570320e+02, 1.99797270e+02,\n",
       "       5.30847530e+01, 2.56438030e+02, 2.11136067e+02, 7.43508930e+01,\n",
       "       6.21464468e+02, 3.60055890e+02, 6.59548130e+01, 4.07450118e+02,\n",
       "       1.22880000e+03, 2.40636930e+01, 3.11329282e+02, 4.26891350e+01,\n",
       "       4.60323855e+02, 2.13225001e+02, 3.00607591e+02, 2.62504882e+02,\n",
       "       2.63365432e+02, 2.56268091e+02, 2.15818200e+02, 1.35360000e+03,\n",
       "       4.99200000e+02, 4.55079520e+01, 6.91200000e+02, 8.24099220e+01,\n",
       "       3.57642982e+02, 4.20356980e+02, 1.36787725e+02, 2.20186677e+02,\n",
       "       1.70798204e+02, 2.66165535e+02, 9.89217820e+01, 2.81295903e+02,\n",
       "       6.31743039e+02, 2.92095210e+01, 1.36883999e+02, 3.17556010e+01,\n",
       "       2.24275820e+02, 8.30400000e+02, 4.80159011e+02, 3.90792553e+02,\n",
       "       7.20711950e+01, 4.19652520e+01, 1.02700003e+03, 3.19820747e+02,\n",
       "       4.11011162e+02, 4.11058500e+00, 3.51149904e+02, 2.84000172e+02,\n",
       "       4.96474767e+02, 9.25137143e+02, 1.31640970e+01, 2.27872071e+02,\n",
       "       4.63335061e+02, 1.80667969e+02, 3.02764283e+02, 1.41922839e+02,\n",
       "       3.49783046e+02, 5.40655380e+01, 3.42515136e+02, 1.02717726e+03,\n",
       "       2.75989978e+02, 4.72599683e+02, 1.33693172e+03, 7.34594600e+00,\n",
       "       5.40141566e+02, 3.83363758e+02, 5.37765151e+02, 3.21873474e+02,\n",
       "       1.95756830e+01, 1.08138715e+02, 7.07303416e+02, 1.06733313e+03,\n",
       "       8.07947292e+02, 6.18630955e+02, 4.04272806e+02, 7.10400000e+02,\n",
       "       7.07977614e+02, 2.32242326e+02, 6.82260010e+01, 2.87149807e+02,\n",
       "       3.91636628e+02, 2.39328571e+02, 2.32674417e+02, 3.36509610e+02,\n",
       "       2.44212286e+02, 3.28870868e+02, 8.50637080e+01, 1.41840000e+03,\n",
       "       3.34408717e+02, 4.20964150e+01, 3.00528579e+02, 1.44782152e+02,\n",
       "       6.45982160e+01, 3.47857619e+02, 2.45447622e+02, 9.55200000e+02,\n",
       "       7.20752945e+02, 3.40656963e+02, 5.46524896e+02, 4.89411833e+02,\n",
       "       1.71325856e+02, 2.49085887e+02, 3.08748690e+01, 3.61455219e+02,\n",
       "       2.07320041e+02,            nan])"
      ]
     },
     "execution_count": 62,
     "metadata": {},
     "output_type": "execute_result"
    }
   ],
   "source": [
    "insurance_df['Total Claim Amount'].unique()"
   ]
  },
  {
   "cell_type": "code",
   "execution_count": 64,
   "id": "84a78cd8-de71-41f3-a2a0-8b381e4a856e",
   "metadata": {},
   "outputs": [
    {
     "data": {
      "text/html": [
       "<div>\n",
       "<style scoped>\n",
       "    .dataframe tbody tr th:only-of-type {\n",
       "        vertical-align: middle;\n",
       "    }\n",
       "\n",
       "    .dataframe tbody tr th {\n",
       "        vertical-align: top;\n",
       "    }\n",
       "\n",
       "    .dataframe thead th {\n",
       "        text-align: right;\n",
       "    }\n",
       "</style>\n",
       "<table border=\"1\" class=\"dataframe\">\n",
       "  <thead>\n",
       "    <tr style=\"text-align: right;\">\n",
       "      <th></th>\n",
       "      <th>Income</th>\n",
       "      <th>Monthly Premium Auto</th>\n",
       "      <th>Total Claim Amount</th>\n",
       "    </tr>\n",
       "  </thead>\n",
       "  <tbody>\n",
       "    <tr>\n",
       "      <th>count</th>\n",
       "      <td>1071.000000</td>\n",
       "      <td>1071.000000</td>\n",
       "      <td>1071.000000</td>\n",
       "    </tr>\n",
       "    <tr>\n",
       "      <th>mean</th>\n",
       "      <td>39295.701214</td>\n",
       "      <td>193.234360</td>\n",
       "      <td>404.986909</td>\n",
       "    </tr>\n",
       "    <tr>\n",
       "      <th>std</th>\n",
       "      <td>30469.427060</td>\n",
       "      <td>1601.190369</td>\n",
       "      <td>293.027260</td>\n",
       "    </tr>\n",
       "    <tr>\n",
       "      <th>min</th>\n",
       "      <td>0.000000</td>\n",
       "      <td>61.000000</td>\n",
       "      <td>0.382107</td>\n",
       "    </tr>\n",
       "    <tr>\n",
       "      <th>25%</th>\n",
       "      <td>14072.000000</td>\n",
       "      <td>68.000000</td>\n",
       "      <td>202.157702</td>\n",
       "    </tr>\n",
       "    <tr>\n",
       "      <th>50%</th>\n",
       "      <td>36234.000000</td>\n",
       "      <td>83.000000</td>\n",
       "      <td>354.729129</td>\n",
       "    </tr>\n",
       "    <tr>\n",
       "      <th>75%</th>\n",
       "      <td>64631.000000</td>\n",
       "      <td>109.500000</td>\n",
       "      <td>532.800000</td>\n",
       "    </tr>\n",
       "    <tr>\n",
       "      <th>max</th>\n",
       "      <td>99960.000000</td>\n",
       "      <td>35354.000000</td>\n",
       "      <td>2893.239678</td>\n",
       "    </tr>\n",
       "  </tbody>\n",
       "</table>\n",
       "</div>"
      ],
      "text/plain": [
       "             Income  Monthly Premium Auto  Total Claim Amount\n",
       "count   1071.000000           1071.000000         1071.000000\n",
       "mean   39295.701214            193.234360          404.986909\n",
       "std    30469.427060           1601.190369          293.027260\n",
       "min        0.000000             61.000000            0.382107\n",
       "25%    14072.000000             68.000000          202.157702\n",
       "50%    36234.000000             83.000000          354.729129\n",
       "75%    64631.000000            109.500000          532.800000\n",
       "max    99960.000000          35354.000000         2893.239678"
      ]
     },
     "execution_count": 64,
     "metadata": {},
     "output_type": "execute_result"
    }
   ],
   "source": [
    "insurance_df.describe()"
   ]
  },
  {
   "cell_type": "code",
   "execution_count": 66,
   "id": "592dd19e-6331-476d-b368-6af8dac4862d",
   "metadata": {},
   "outputs": [],
   "source": [
    "# Categorical columns: Customer, st, Gender, Costumer Lifetie Val, NUmb of open complaitns, policy type, vehicle class\n",
    "### mirar ultimos dos puntos "
   ]
  },
  {
   "cell_type": "code",
   "execution_count": 68,
   "id": "62c913f3-eb3b-4076-9ca1-d9dfde35fc80",
   "metadata": {},
   "outputs": [],
   "source": [
    "###last two"
   ]
  },
  {
   "cell_type": "code",
   "execution_count": 70,
   "id": "ac82723b-44f5-4946-97e9-75df4f965ec3",
   "metadata": {},
   "outputs": [
    {
     "data": {
      "text/plain": [
       "ST        \n",
       "Oregon        320\n",
       "California    211\n",
       "Arizona       186\n",
       "Cali          120\n",
       "Nevada         98\n",
       "Washington     81\n",
       "WA             30\n",
       "AZ             25\n",
       "Name: count, dtype: int64"
      ]
     },
     "execution_count": 70,
     "metadata": {},
     "output_type": "execute_result"
    }
   ],
   "source": [
    "#Challenge 2: #1\n",
    "column_ST = insurance_df[['ST']].value_counts()\n",
    "column_ST"
   ]
  },
  {
   "cell_type": "code",
   "execution_count": 72,
   "id": "e0faf2f9-dfd5-48ea-885b-a7dfacaefc38",
   "metadata": {},
   "outputs": [],
   "source": [
    "####print  min 5 in ascending order "
   ]
  },
  {
   "cell_type": "code",
   "execution_count": 74,
   "id": "b76e06cc-9185-402e-8bf1-9fcb24d833a6",
   "metadata": {},
   "outputs": [
    {
     "data": {
      "text/html": [
       "<div>\n",
       "<style scoped>\n",
       "    .dataframe tbody tr th:only-of-type {\n",
       "        vertical-align: middle;\n",
       "    }\n",
       "\n",
       "    .dataframe tbody tr th {\n",
       "        vertical-align: top;\n",
       "    }\n",
       "\n",
       "    .dataframe thead th {\n",
       "        text-align: right;\n",
       "    }\n",
       "</style>\n",
       "<table border=\"1\" class=\"dataframe\">\n",
       "  <thead>\n",
       "    <tr style=\"text-align: right;\">\n",
       "      <th></th>\n",
       "      <th>Policy Type</th>\n",
       "    </tr>\n",
       "  </thead>\n",
       "  <tbody>\n",
       "    <tr>\n",
       "      <th>0</th>\n",
       "      <td>Personal Auto</td>\n",
       "    </tr>\n",
       "    <tr>\n",
       "      <th>1</th>\n",
       "      <td>Personal Auto</td>\n",
       "    </tr>\n",
       "    <tr>\n",
       "      <th>2</th>\n",
       "      <td>Personal Auto</td>\n",
       "    </tr>\n",
       "    <tr>\n",
       "      <th>3</th>\n",
       "      <td>Corporate Auto</td>\n",
       "    </tr>\n",
       "    <tr>\n",
       "      <th>4</th>\n",
       "      <td>Personal Auto</td>\n",
       "    </tr>\n",
       "    <tr>\n",
       "      <th>...</th>\n",
       "      <td>...</td>\n",
       "    </tr>\n",
       "    <tr>\n",
       "      <th>4003</th>\n",
       "      <td>NaN</td>\n",
       "    </tr>\n",
       "    <tr>\n",
       "      <th>4004</th>\n",
       "      <td>NaN</td>\n",
       "    </tr>\n",
       "    <tr>\n",
       "      <th>4005</th>\n",
       "      <td>NaN</td>\n",
       "    </tr>\n",
       "    <tr>\n",
       "      <th>4006</th>\n",
       "      <td>NaN</td>\n",
       "    </tr>\n",
       "    <tr>\n",
       "      <th>4007</th>\n",
       "      <td>NaN</td>\n",
       "    </tr>\n",
       "  </tbody>\n",
       "</table>\n",
       "<p>4008 rows × 1 columns</p>\n",
       "</div>"
      ],
      "text/plain": [
       "         Policy Type\n",
       "0      Personal Auto\n",
       "1      Personal Auto\n",
       "2      Personal Auto\n",
       "3     Corporate Auto\n",
       "4      Personal Auto\n",
       "...              ...\n",
       "4003             NaN\n",
       "4004             NaN\n",
       "4005             NaN\n",
       "4006             NaN\n",
       "4007             NaN\n",
       "\n",
       "[4008 rows x 1 columns]"
      ]
     },
     "execution_count": 74,
     "metadata": {},
     "output_type": "execute_result"
    }
   ],
   "source": [
    "#EX 2 \n",
    "policy_series = insurance_df[['Policy Type']]\n",
    "policy_series"
   ]
  },
  {
   "cell_type": "code",
   "execution_count": 76,
   "id": "5dffea44-6ad9-4b37-80d0-e6005012c5c3",
   "metadata": {},
   "outputs": [
    {
     "data": {
      "text/plain": [
       "Policy Type   \n",
       "Personal Auto     780\n",
       "Corporate Auto    234\n",
       "Special Auto       57\n",
       "Name: count, dtype: int64"
      ]
     },
     "execution_count": 76,
     "metadata": {},
     "output_type": "execute_result"
    }
   ],
   "source": [
    "policy_series.value_counts()"
   ]
  },
  {
   "cell_type": "code",
   "execution_count": 78,
   "id": "3eb3f69b-120a-4c58-bc81-7f2a93aa54a6",
   "metadata": {},
   "outputs": [],
   "source": [
    "most_sold_policy = policy_series.loc[1]"
   ]
  },
  {
   "cell_type": "code",
   "execution_count": 80,
   "id": "5365e6ab-f634-4276-8a2d-15bb9b2a0c2a",
   "metadata": {},
   "outputs": [
    {
     "data": {
      "text/plain": [
       "Policy Type    Personal Auto\n",
       "Name: 1, dtype: object"
      ]
     },
     "execution_count": 80,
     "metadata": {},
     "output_type": "execute_result"
    }
   ],
   "source": [
    "most_sold_policy"
   ]
  },
  {
   "cell_type": "code",
   "execution_count": 97,
   "id": "4711a518-536f-464b-acf4-1c7279d8049e",
   "metadata": {},
   "outputs": [
    {
     "name": "stdout",
     "output_type": "stream",
     "text": [
      " Average income of Personal Auto is: 38180.69871794872\n",
      " Average income for Corporate auto: 41390.31196581197\n"
     ]
    }
   ],
   "source": [
    "#Excercise 3\n",
    "personal_auto_df = insurance_df.loc[insurance_df[\"Policy Type\"] == \"Personal Auto\"]\n",
    "\n",
    "corporate_auto_df = insurance_df.loc[insurance_df[\"Policy Type\"] == \"Corporate Auto\"]\n",
    "\n",
    "personal_auto_avg = personal_auto_df[\"Income\"].mean()\n",
    "\n",
    "corporate_auto_avg = corporate_auto_df[\"Income\"].mean()\n",
    "\n",
    "\n",
    "print(f\" Average income of Personal Auto is: {personal_auto_avg}\")\n",
    "print(f\" Average income for Corporate auto: {corporate_auto_avg}\")"
   ]
  },
  {
   "cell_type": "code",
   "execution_count": 99,
   "id": "541a1c65-c745-404d-8ec1-1c0c6ef491da",
   "metadata": {},
   "outputs": [
    {
     "data": {
      "text/plain": [
       "(780, 11)"
      ]
     },
     "execution_count": 99,
     "metadata": {},
     "output_type": "execute_result"
    }
   ],
   "source": [
    "personal_auto_df.shape"
   ]
  },
  {
   "cell_type": "code",
   "execution_count": 101,
   "id": "66477ed6-39e4-4f08-9b7d-d8961dce541e",
   "metadata": {},
   "outputs": [
    {
     "data": {
      "text/plain": [
       "(234, 11)"
      ]
     },
     "execution_count": 101,
     "metadata": {},
     "output_type": "execute_result"
    }
   ],
   "source": [
    "corporate_auto_df.shape"
   ]
  },
  {
   "cell_type": "code",
   "execution_count": null,
   "id": "5ad9cadb-746c-4b39-8916-8359a65885cc",
   "metadata": {},
   "outputs": [],
   "source": []
  }
 ],
 "metadata": {
  "kernelspec": {
   "display_name": "Python 3 (ipykernel)",
   "language": "python",
   "name": "python3"
  },
  "language_info": {
   "codemirror_mode": {
    "name": "ipython",
    "version": 3
   },
   "file_extension": ".py",
   "mimetype": "text/x-python",
   "name": "python",
   "nbconvert_exporter": "python",
   "pygments_lexer": "ipython3",
   "version": "3.12.4"
  }
 },
 "nbformat": 4,
 "nbformat_minor": 5
}
